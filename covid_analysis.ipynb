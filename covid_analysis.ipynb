{
 "cells": [
  {
   "cell_type": "code",
   "execution_count": null,
   "metadata": {},
   "outputs": [],
   "source": [
    "import pandas as pd"
   ]
  },
  {
   "cell_type": "markdown",
   "metadata": {},
   "source": [
    "# From COVID Tracking"
   ]
  },
  {
   "cell_type": "code",
   "execution_count": null,
   "metadata": {},
   "outputs": [],
   "source": [
    "us_url = \"https://covidtracking.com/api/us/daily.csv\"\n",
    "states_url = \"http://covidtracking.com/api/states/daily.csv\""
   ]
  },
  {
   "cell_type": "code",
   "execution_count": null,
   "metadata": {},
   "outputs": [],
   "source": [
    "us_df = pd.read_csv(us_url)"
   ]
  },
  {
   "cell_type": "code",
   "execution_count": null,
   "metadata": {},
   "outputs": [],
   "source": [
    "us_df.date = pd.to_datetime(us_df.date, format=\"%Y%m%d\").dt.to_period('d')\n",
    "us_df = us_df.set_index('date').sort_index()\n",
    "us_df = us_df[['positive', 'negative', 'pending', 'death']]"
   ]
  },
  {
   "cell_type": "code",
   "execution_count": null,
   "metadata": {},
   "outputs": [],
   "source": [
    "us_df.tail()"
   ]
  },
  {
   "cell_type": "code",
   "execution_count": null,
   "metadata": {},
   "outputs": [],
   "source": [
    "# tests performed per day\n",
    "us_df[['positive', 'negative']].diff(1).sum(axis=1).tail()"
   ]
  },
  {
   "cell_type": "code",
   "execution_count": null,
   "metadata": {},
   "outputs": [],
   "source": [
    "# us_df.head()\n",
    "ax = us_df['positive'].plot.line(marker='o')\n",
    "ax.set_xlim(us_df.index[0] - 1, us_df.index[-1] + 1)\n",
    "ax.set_title('US Cumulative Positive Cases');"
   ]
  },
  {
   "cell_type": "code",
   "execution_count": null,
   "metadata": {},
   "outputs": [],
   "source": [
    "# new positives\n",
    "us_df['positive'].diff(1).tail()"
   ]
  },
  {
   "cell_type": "code",
   "execution_count": null,
   "metadata": {},
   "outputs": [],
   "source": [
    "ax = us_df['positive'].pct_change(1).plot()\n",
    "ax.set_title('US %Change in New Positive Cases');"
   ]
  },
  {
   "cell_type": "markdown",
   "metadata": {},
   "source": [
    "# Pennsylvania"
   ]
  },
  {
   "cell_type": "code",
   "execution_count": null,
   "metadata": {},
   "outputs": [],
   "source": [
    "states_df = pd.read_csv(states_url)\n",
    "\n",
    "states_df.date = pd.to_datetime(states_df.date, format=\"%Y%m%d\").dt.to_period('d')\n",
    "states_df = states_df.set_index('date').sort_index()\n",
    "states_df = states_df[['state', 'positive', 'negative', 'pending', 'death']]\n",
    "\n",
    "pa_df = states_df.groupby('state').get_group('PA')"
   ]
  },
  {
   "cell_type": "code",
   "execution_count": null,
   "metadata": {},
   "outputs": [],
   "source": [
    "# total tests performed on day\n",
    "pa_df[['positive', 'negative']].diff(1).sum(axis=1).tail()"
   ]
  },
  {
   "cell_type": "code",
   "execution_count": null,
   "metadata": {},
   "outputs": [],
   "source": [
    "ax = pa_df['positive'].plot.line(marker='o')\n",
    "ax.set_xlim(pa_df.index[0] - 1, pa_df.index[-1] + 1)\n",
    "ax.set_title('PA Cumulative Positive Cases');"
   ]
  },
  {
   "cell_type": "code",
   "execution_count": null,
   "metadata": {},
   "outputs": [],
   "source": [
    "# pa new positives\n",
    "pa_df['positive'].diff(1).tail()"
   ]
  },
  {
   "cell_type": "code",
   "execution_count": null,
   "metadata": {},
   "outputs": [],
   "source": [
    "ax = pa_df['positive'].pct_change(1).plot()\n",
    "ax.set_title('PA %Change in Positive Cases');"
   ]
  }
 ],
 "metadata": {
  "kernelspec": {
   "display_name": "Python 3",
   "language": "python",
   "name": "python3"
  },
  "language_info": {
   "codemirror_mode": {
    "name": "ipython",
    "version": 3
   },
   "file_extension": ".py",
   "mimetype": "text/x-python",
   "name": "python",
   "nbconvert_exporter": "python",
   "pygments_lexer": "ipython3",
   "version": "3.7.6"
  }
 },
 "nbformat": 4,
 "nbformat_minor": 4
}
